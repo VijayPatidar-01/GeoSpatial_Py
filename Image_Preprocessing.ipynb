{
 "cells": [
  {
   "cell_type": "code",
   "execution_count": 1,
   "id": "9c879e75-d161-4039-967a-f02d5ae18738",
   "metadata": {},
   "outputs": [],
   "source": [
    "import os\n",
    "import rasterio\n",
    "import numpy as np"
   ]
  },
  {
   "cell_type": "code",
   "execution_count": 3,
   "id": "0d0f6cfd-0a94-4064-8d91-8bb4330a9f20",
   "metadata": {},
   "outputs": [],
   "source": [
    "input_folder = r\"D:\\MPSeDC\\Vijay_Project\\Vijay_Projects\\Agri_GIS_Data\\CHIRPS_Exports\"\n",
    "output_folder = os.path.join(input_folder, \"processed\")\n",
    "\n",
    "# create output folder if not exists\n",
    "os.makedirs(output_folder, exist_ok=True)"
   ]
  },
  {
   "cell_type": "markdown",
   "id": "84d8533d-ea8a-4d60-8701-0c82928d5264",
   "metadata": {},
   "source": [
    "## Remove Null Value Pixels"
   ]
  },
  {
   "cell_type": "code",
   "execution_count": 4,
   "id": "47b60cd1-951d-453e-9181-4ef39348700b",
   "metadata": {},
   "outputs": [
    {
     "name": "stdout",
     "output_type": "stream",
     "text": [
      "Processed: chirps_2025-06_1.tif\n",
      "Processed: chirps_2025-06_10.tif\n",
      "Processed: chirps_2025-06_11.tif\n",
      "Processed: chirps_2025-06_12.tif\n",
      "Processed: chirps_2025-06_13.tif\n",
      "Processed: chirps_2025-06_14.tif\n",
      "Processed: chirps_2025-06_15.tif\n",
      "Processed: chirps_2025-06_16.tif\n",
      "Processed: chirps_2025-06_17.tif\n",
      "Processed: chirps_2025-06_18.tif\n",
      "Processed: chirps_2025-06_19.tif\n",
      "Processed: chirps_2025-06_2.tif\n",
      "Processed: chirps_2025-06_20.tif\n",
      "Processed: chirps_2025-06_21.tif\n",
      "Processed: chirps_2025-06_22.tif\n",
      "Processed: chirps_2025-06_23.tif\n",
      "Processed: chirps_2025-06_24.tif\n",
      "Processed: chirps_2025-06_25.tif\n",
      "Processed: chirps_2025-06_26.tif\n",
      "Processed: chirps_2025-06_27.tif\n",
      "Processed: chirps_2025-06_28.tif\n",
      "Processed: chirps_2025-06_29.tif\n",
      "Processed: chirps_2025-06_3.tif\n",
      "Processed: chirps_2025-06_30.tif\n",
      "Processed: chirps_2025-06_4.tif\n",
      "Processed: chirps_2025-06_5.tif\n",
      "Processed: chirps_2025-06_6.tif\n",
      "Processed: chirps_2025-06_7.tif\n",
      "Processed: chirps_2025-06_8.tif\n",
      "Processed: chirps_2025-06_9.tif\n",
      "✅ All files processed and saved in: D:\\MPSeDC\\Vijay_Project\\Vijay_Projects\\Agri_GIS_Data\\CHIRPS_Exports\\processed\n"
     ]
    }
   ],
   "source": [
    "\n",
    "for filename in os.listdir(input_folder):\n",
    "    if filename.lower().endswith(\".tif\"):\n",
    "        input_path = os.path.join(input_folder, filename)\n",
    "        output_path = os.path.join(output_folder, filename)\n",
    "\n",
    "        with rasterio.open(input_path) as src:\n",
    "            profile = src.profile\n",
    "            data = src.read(1)\n",
    "\n",
    "            # Replace 0 with NoData\n",
    "            data = np.where(data == 0, src.nodata if src.nodata is not None else -9999, data)\n",
    "\n",
    "            # Update profile with NoData value if not set\n",
    "            if src.nodata is None:\n",
    "                profile.update(nodata=-9999)\n",
    "\n",
    "            # Save processed file\n",
    "            with rasterio.open(output_path, 'w', **profile) as dst:\n",
    "                dst.write(data, 1)\n",
    "\n",
    "        print(f\"Processed: {filename}\")\n",
    "\n",
    "print(\"✅ All files processed and saved in:\", output_folder)\n"
   ]
  },
  {
   "cell_type": "code",
   "execution_count": null,
   "id": "070c820c-0d4f-40a7-92bb-1bdf93ae52ca",
   "metadata": {},
   "outputs": [],
   "source": []
  }
 ],
 "metadata": {
  "kernelspec": {
   "display_name": "test_venv",
   "language": "python",
   "name": "test_venv"
  },
  "language_info": {
   "codemirror_mode": {
    "name": "ipython",
    "version": 3
   },
   "file_extension": ".py",
   "mimetype": "text/x-python",
   "name": "python",
   "nbconvert_exporter": "python",
   "pygments_lexer": "ipython3",
   "version": "3.13.7"
  }
 },
 "nbformat": 4,
 "nbformat_minor": 5
}
