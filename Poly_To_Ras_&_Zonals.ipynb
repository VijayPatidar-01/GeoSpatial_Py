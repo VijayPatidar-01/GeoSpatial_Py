{
 "cells": [
  {
   "cell_type": "code",
   "execution_count": 1,
   "id": "d3c6b438-dc1c-4775-a199-7d114029f6fb",
   "metadata": {},
   "outputs": [],
   "source": [
    "import geopandas as gpd\n",
    "import rasterio\n",
    "from rasterio.features import rasterize\n",
    "from rasterio.transform import from_bounds\n",
    "from rasterstats import zonal_stats\n",
    "import math\n",
    "import warnings\n",
    "warnings.filterwarnings(\"ignore\")"
   ]
  },
  {
   "cell_type": "markdown",
   "id": "967a7550-f86a-4003-9cf9-8be6230fb111",
   "metadata": {},
   "source": [
    "## Load shapefile"
   ]
  },
  {
   "cell_type": "code",
   "execution_count": 3,
   "id": "8106a42e-b0c6-496b-85d9-a5549af06aa8",
   "metadata": {},
   "outputs": [
    {
     "data": {
      "text/plain": [
       "<Projected CRS: EPSG:32643>\n",
       "Name: WGS 84 / UTM zone 43N\n",
       "Axis Info [cartesian]:\n",
       "- E[east]: Easting (metre)\n",
       "- N[north]: Northing (metre)\n",
       "Area of Use:\n",
       "- name: Between 72°E and 78°E, northern hemisphere between equator and 84°N, onshore and offshore. China. India. Kazakhstan. Kyrgyzstan. Maldives. Pakistan. Russian Federation. Tajikistan.\n",
       "- bounds: (72.0, 0.0, 78.0, 84.0)\n",
       "Coordinate Operation:\n",
       "- name: UTM zone 43N\n",
       "- method: Transverse Mercator\n",
       "Datum: World Geodetic System 1984 ensemble\n",
       "- Ellipsoid: WGS 84\n",
       "- Prime Meridian: Greenwich"
      ]
     },
     "execution_count": 3,
     "metadata": {},
     "output_type": "execute_result"
    }
   ],
   "source": [
    "shp_attr = r\"D:\\MPSeDC\\Kharif\\RS_Yield_Kharif_2024_Soybean.shp\"   # shapefile with attribute to rasterize\n",
    "shp_zone = r\"D:\\MPSeDC\\UTM\\Village_UTM.shp\"  # shapefile for zonal statistics (FID field)\n",
    "\n",
    "gdf_attr = gpd.read_file(shp_attr)\n",
    "gdf_zone = gpd.read_file(shp_zone)\n",
    "\n",
    "# Make sure both are in the same CRS\n",
    "if gdf_zone.crs != gdf_attr.crs:\n",
    "    gdf_attr = gdf_attr.to_crs(gdf_zone.crs)\n",
    "crs = gdf_attr.crs\n",
    "crs "
   ]
  },
  {
   "cell_type": "code",
   "execution_count": 4,
   "id": "81040609-5cdb-41df-ba5d-90228e42cb10",
   "metadata": {},
   "outputs": [
    {
     "name": "stdout",
     "output_type": "stream",
     "text": [
      "  code class sub_class       vil_nm_h        vil_nm_e lgd_gp_nm  \\\n",
      "0   01    01        13     डाँग सरकार      Dangsarkar   Adupura   \n",
      "1   01    01        13   आहुखाना कलाँ  Ahukhana kalan      None   \n",
      "2   01    01        13  आहुखाना खुर्द  Ahukhana khurd      None   \n",
      "3   01    01        13         ओहदपुर         Ohadpur      None   \n",
      "4   01    01        13      कल्यानबाग       Kalyanbag      None   \n",
      "\n",
      "           teh_nm       b_nm  dist_nm   div_nm  ... pc_cd state_cd  \\\n",
      "0  Gwalior Gramin      Morar  Gwalior  Gwalior  ...   003       23   \n",
      "1   Gwalior(Gird)  Ghatigaon  Gwalior  Gwalior  ...   003       23   \n",
      "2   Gwalior(Gird)  Ghatigaon  Gwalior  Gwalior  ...   003       23   \n",
      "3     City Center  Ghatigaon  Gwalior  Gwalior  ...   003       23   \n",
      "4   Gwalior(Gird)  Ghatigaon  Gwalior  Gwalior  ...   003       23   \n",
      "\n",
      "    area_hecta lgd_gp_cd teh_cd  vil_cd          bhu_cd ccode_11   lgdcd  \\\n",
      "0  2936.526106    139384  07395  453859  03090300036218   453859  453859   \n",
      "1   268.513648      None  03399  948169  03010100006159   948169  948169   \n",
      "2    55.426970      None  03399  948200  03010100006160   948200  948200   \n",
      "3   212.231633      None  07039  948209  03080100002157   948209  948209   \n",
      "4    35.018680      None  03399  948171  03010100006227   948171  948171   \n",
      "\n",
      "                                            geometry  \n",
      "0  MULTIPOLYGON (((831070.976 2893012.417, 831100...  \n",
      "1  POLYGON ((816410.089 2905959.132, 816427.94 29...  \n",
      "2  POLYGON ((816792.466 2903037.06, 816790.612 29...  \n",
      "3  POLYGON ((819115.72 2901404.736, 819137.821 29...  \n",
      "4  POLYGON ((814199.458 2905329.716, 814206.926 2...  \n",
      "\n",
      "[5 rows x 27 columns]\n"
     ]
    }
   ],
   "source": [
    "gdf = gdf_zone.head()\n",
    "print(gdf)"
   ]
  },
  {
   "cell_type": "markdown",
   "id": "2f9f5760-2b66-4919-9fd4-23c1017a4274",
   "metadata": {},
   "source": [
    "## Rasterize shapefile"
   ]
  },
  {
   "cell_type": "code",
   "execution_count": 5,
   "id": "efc3ab67-41f1-4dbb-acf4-ea9d556d323f",
   "metadata": {},
   "outputs": [],
   "source": [
    "# Rasterize shapefile A\n",
    "resolution = 10  # meters per pixel\n",
    "\n",
    "# Use the correct variable name\n",
    "bounds = gdf_attr.total_bounds\n",
    "width = int((bounds[2] - bounds[0]) / resolution)\n",
    "height = int((bounds[3] - bounds[1]) / resolution)\n",
    "\n",
    "from rasterio.transform import from_bounds\n",
    "transform = from_bounds(*bounds, width, height)"
   ]
  },
  {
   "cell_type": "code",
   "execution_count": 6,
   "id": "6db276a3-4508-42f5-a48a-4f1b12b91082",
   "metadata": {},
   "outputs": [],
   "source": [
    "# transform = from_origin(minx, maxy, resolution, resolution)\n",
    "\n",
    "field = 'Soy_Yield'   # put your attribute column here\n",
    "\n",
    "shapes = [(geom, value) for geom, value in zip(gdf_attr.geometry, gdf_attr[field])]\n",
    "\n",
    "raster = rasterize(\n",
    "    shapes=shapes,\n",
    "    out_shape=(height, width),\n",
    "    transform=transform,\n",
    "    fill=0,\n",
    "    dtype=\"int16\"\n",
    ")\n",
    "\n",
    "out_tif = r\"D:\\MPSeDC\\Vijay_Project\\Polygon_To_Raster\\RS_Yield_Kharif_2024_Soybean_1.tif\"\n",
    "with rasterio.open(\n",
    "    out_tif,\n",
    "    \"w\",\n",
    "    driver=\"GTiff\",\n",
    "    height=height,\n",
    "    width=width,\n",
    "    count=1,\n",
    "    dtype=raster.dtype,\n",
    "    crs=gdf_attr.crs,\n",
    "    transform=transform,\n",
    ") as dst:\n",
    "    dst.write(raster, 1)\n",
    "\n",
    "# print(f\"Raster saved at {out_tif}\")"
   ]
  },
  {
   "cell_type": "markdown",
   "id": "841f4bcf-315d-4975-86b9-988f525d34ed",
   "metadata": {},
   "source": [
    "## Zonal Statistics with shapefile\n",
    "##### 35 minute "
   ]
  },
  {
   "cell_type": "code",
   "execution_count": 7,
   "id": "c4565c70-e457-4502-883f-89c5ecf752bc",
   "metadata": {},
   "outputs": [
    {
     "name": "stdout",
     "output_type": "stream",
     "text": [
      "Zonal statistics saved as shapefile!\n"
     ]
    }
   ],
   "source": [
    "\n",
    "stats = zonal_stats(\n",
    "    vectors=gdf_zone,\n",
    "    raster=out_tif,\n",
    "    stats=[\"mean\"],  # choose statistics\n",
    "    geojson_out=True\n",
    ")\n",
    "\n",
    "# Convert to GeoDataFrame\n",
    "gdf_stats = gpd.GeoDataFrame.from_features(stats)\n",
    "\n",
    "\n",
    "# Save results\n",
    "\n",
    "# gdf_stats.to_file(r\"D:\\MPSeDC\\vijay\\Polygon_To_Raster\\RS_Yield_Kharif_2024_Soybean_Zonal.dbf\")\n",
    "\n",
    "print(\"Zonal statistics saved as shapefile!\")"
   ]
  },
  {
   "cell_type": "code",
   "execution_count": null,
   "id": "1873a285-66e6-4848-b87b-36c3ce9d6c6d",
   "metadata": {},
   "outputs": [],
   "source": []
  },
  {
   "cell_type": "code",
   "execution_count": null,
   "id": "a2e8189b-6364-46e2-ae71-a2b339447905",
   "metadata": {},
   "outputs": [],
   "source": []
  },
  {
   "cell_type": "code",
   "execution_count": null,
   "id": "3a4fc554-a66c-484b-a602-ec85aa5848cf",
   "metadata": {},
   "outputs": [],
   "source": []
  }
 ],
 "metadata": {
  "kernelspec": {
   "display_name": "test_venv",
   "language": "python",
   "name": "test_venv"
  },
  "language_info": {
   "codemirror_mode": {
    "name": "ipython",
    "version": 3
   },
   "file_extension": ".py",
   "mimetype": "text/x-python",
   "name": "python",
   "nbconvert_exporter": "python",
   "pygments_lexer": "ipython3",
   "version": "3.13.7"
  }
 },
 "nbformat": 4,
 "nbformat_minor": 5
}
