{
 "cells": [
  {
   "cell_type": "code",
   "execution_count": 1,
   "id": "6831cc6b-dfd7-4975-8721-3015ce69c04d",
   "metadata": {},
   "outputs": [],
   "source": [
    "import ee\n",
    "import geopandas as gpd\n",
    "import geemap\n",
    "import pandas as pd\n",
    "from shapely.geometry import mapping, Polygon, MultiPolygon, Point, LineString"
   ]
  },
  {
   "cell_type": "code",
   "execution_count": 2,
   "id": "f61dc674-893c-431f-ac93-6a0adfff7e3f",
   "metadata": {},
   "outputs": [
    {
     "data": {
      "text/html": [
       "\n",
       "            <style>\n",
       "                .geemap-dark {\n",
       "                    --jp-widgets-color: white;\n",
       "                    --jp-widgets-label-color: white;\n",
       "                    --jp-ui-font-color1: white;\n",
       "                    --jp-layout-color2: #454545;\n",
       "                    background-color: #383838;\n",
       "                }\n",
       "\n",
       "                .geemap-dark .jupyter-button {\n",
       "                    --jp-layout-color3: #383838;\n",
       "                }\n",
       "\n",
       "                .geemap-colab {\n",
       "                    background-color: var(--colab-primary-surface-color, white);\n",
       "                }\n",
       "\n",
       "                .geemap-colab .jupyter-button {\n",
       "                    --jp-layout-color3: var(--colab-primary-surface-color, white);\n",
       "                }\n",
       "            </style>\n",
       "            "
      ],
      "text/plain": [
       "<IPython.core.display.HTML object>"
      ]
     },
     "metadata": {},
     "output_type": "display_data"
    },
    {
     "data": {
      "text/plain": [
       "True"
      ]
     },
     "execution_count": 2,
     "metadata": {},
     "output_type": "execute_result"
    }
   ],
   "source": [
    "ee.Authenticate()"
   ]
  },
  {
   "cell_type": "code",
   "execution_count": 4,
   "id": "2f02f16d-02eb-4cdd-afb9-569ded95ad49",
   "metadata": {},
   "outputs": [
    {
     "data": {
      "text/html": [
       "\n",
       "            <style>\n",
       "                .geemap-dark {\n",
       "                    --jp-widgets-color: white;\n",
       "                    --jp-widgets-label-color: white;\n",
       "                    --jp-ui-font-color1: white;\n",
       "                    --jp-layout-color2: #454545;\n",
       "                    background-color: #383838;\n",
       "                }\n",
       "\n",
       "                .geemap-dark .jupyter-button {\n",
       "                    --jp-layout-color3: #383838;\n",
       "                }\n",
       "\n",
       "                .geemap-colab {\n",
       "                    background-color: var(--colab-primary-surface-color, white);\n",
       "                }\n",
       "\n",
       "                .geemap-colab .jupyter-button {\n",
       "                    --jp-layout-color3: var(--colab-primary-surface-color, white);\n",
       "                }\n",
       "            </style>\n",
       "            "
      ],
      "text/plain": [
       "<IPython.core.display.HTML object>"
      ]
     },
     "metadata": {},
     "output_type": "display_data"
    },
    {
     "name": "stdout",
     "output_type": "stream",
     "text": [
      "The initialization process has been completed successfully.\n"
     ]
    }
   ],
   "source": [
    "ee.Initialize(project='agri-gis-467304')\n",
    "print('The initialization process has been completed successfully.')"
   ]
  },
  {
   "cell_type": "code",
   "execution_count": 8,
   "id": "fc568ab7-d70e-48c0-919e-75d15b6ea868",
   "metadata": {},
   "outputs": [
    {
     "data": {
      "text/html": [
       "\n",
       "            <style>\n",
       "                .geemap-dark {\n",
       "                    --jp-widgets-color: white;\n",
       "                    --jp-widgets-label-color: white;\n",
       "                    --jp-ui-font-color1: white;\n",
       "                    --jp-layout-color2: #454545;\n",
       "                    background-color: #383838;\n",
       "                }\n",
       "\n",
       "                .geemap-dark .jupyter-button {\n",
       "                    --jp-layout-color3: #383838;\n",
       "                }\n",
       "\n",
       "                .geemap-colab {\n",
       "                    background-color: var(--colab-primary-surface-color, white);\n",
       "                }\n",
       "\n",
       "                .geemap-colab .jupyter-button {\n",
       "                    --jp-layout-color3: var(--colab-primary-surface-color, white);\n",
       "                }\n",
       "            </style>\n",
       "            "
      ],
      "text/plain": [
       "<IPython.core.display.HTML object>"
      ]
     },
     "metadata": {},
     "output_type": "display_data"
    }
   ],
   "source": [
    "def Shp_to_ee_fc(shp_path):\n",
    "    \"\"\"\n",
    "    Convert a GeoPandas GeoDataFrame to an Earth Engine FeatureCollection.\n",
    "    Strips Z coordinates from all geometry types.\n",
    "    \"\"\"\n",
    "    gdf = gpd.read_file(shp_path)\n",
    "\n",
    "    def to_2d(geom):\n",
    "        if geom is None or geom.is_empty:\n",
    "            return None\n",
    "        # Point\n",
    "        if geom.geom_type == 'Point':\n",
    "            x, y = geom.coords[0][:2]\n",
    "            return Point(x, y)\n",
    "        # LineString\n",
    "        elif geom.geom_type == 'LineString':\n",
    "            coords = [(c[0], c[1]) for c in geom.coords]\n",
    "            return LineString(coords)\n",
    "        # Polygon\n",
    "        elif geom.geom_type == 'Polygon':\n",
    "            coords = [(c[0], c[1]) for c in geom.exterior.coords]\n",
    "            return Polygon(coords)\n",
    "        # MultiPolygon\n",
    "        elif geom.geom_type == 'MultiPolygon':\n",
    "            polys = []\n",
    "            for poly in geom.geoms:\n",
    "                coords = [(c[0], c[1]) for c in poly.exterior.coords]\n",
    "                polys.append(Polygon(coords))\n",
    "            return MultiPolygon(polys)\n",
    "        else:\n",
    "            return None\n",
    "\n",
    "    features = []\n",
    "    for _, row in gdf.iterrows():\n",
    "        geom2d = to_2d(row.geometry)\n",
    "        if geom2d is None:\n",
    "            continue\n",
    "\n",
    "        # Drop geometry column from properties\n",
    "        props = row.drop('geometry').to_dict()\n",
    "        \n",
    "        if geom2d.geom_type == 'MultiPolygon':\n",
    "            for poly in geom2d.geoms:\n",
    "                features.append(ee.Feature(ee.Geometry(mapping(poly)), props))\n",
    "        else:\n",
    "            features.append(ee.Feature(ee.Geometry(mapping(geom2d)), props))\n",
    "\n",
    "    return ee.FeatureCollection(features)\n"
   ]
  },
  {
   "cell_type": "code",
   "execution_count": 9,
   "id": "a2bb3e32-3973-4306-8d5c-1b4b29ac6ef2",
   "metadata": {},
   "outputs": [
    {
     "data": {
      "text/html": [
       "\n",
       "            <style>\n",
       "                .geemap-dark {\n",
       "                    --jp-widgets-color: white;\n",
       "                    --jp-widgets-label-color: white;\n",
       "                    --jp-ui-font-color1: white;\n",
       "                    --jp-layout-color2: #454545;\n",
       "                    background-color: #383838;\n",
       "                }\n",
       "\n",
       "                .geemap-dark .jupyter-button {\n",
       "                    --jp-layout-color3: #383838;\n",
       "                }\n",
       "\n",
       "                .geemap-colab {\n",
       "                    background-color: var(--colab-primary-surface-color, white);\n",
       "                }\n",
       "\n",
       "                .geemap-colab .jupyter-button {\n",
       "                    --jp-layout-color3: var(--colab-primary-surface-color, white);\n",
       "                }\n",
       "            </style>\n",
       "            "
      ],
      "text/plain": [
       "<IPython.core.display.HTML object>"
      ]
     },
     "metadata": {},
     "output_type": "display_data"
    }
   ],
   "source": [
    "shp_path = r\"D:\\MPSEDC_Internship\\Row_Data\\Final_Points\\Point.shp\"\n",
    "ee_fc = Shp_to_ee_fc(shp_path)"
   ]
  },
  {
   "cell_type": "code",
   "execution_count": 10,
   "id": "1de9f22b-a697-4a3e-8c92-54b2fe1f2d1f",
   "metadata": {},
   "outputs": [
    {
     "data": {
      "text/html": [
       "\n",
       "            <style>\n",
       "                .geemap-dark {\n",
       "                    --jp-widgets-color: white;\n",
       "                    --jp-widgets-label-color: white;\n",
       "                    --jp-ui-font-color1: white;\n",
       "                    --jp-layout-color2: #454545;\n",
       "                    background-color: #383838;\n",
       "                }\n",
       "\n",
       "                .geemap-dark .jupyter-button {\n",
       "                    --jp-layout-color3: #383838;\n",
       "                }\n",
       "\n",
       "                .geemap-colab {\n",
       "                    background-color: var(--colab-primary-surface-color, white);\n",
       "                }\n",
       "\n",
       "                .geemap-colab .jupyter-button {\n",
       "                    --jp-layout-color3: var(--colab-primary-surface-color, white);\n",
       "                }\n",
       "            </style>\n",
       "            "
      ],
      "text/plain": [
       "<IPython.core.display.HTML object>"
      ]
     },
     "metadata": {},
     "output_type": "display_data"
    },
    {
     "data": {
      "text/html": [
       "<div><style>:root {\n",
       "  --font-color-primary: var(--jp-content-font-color0, rgba(0, 0, 0, 1));\n",
       "  --font-color-secondary: var(--jp-content-font-color2, rgba(0, 0, 0, 0.7));\n",
       "  --font-color-accent: rgba(123, 31, 162, 1);\n",
       "  --border-color: var(--jp-border-color2, #e0e0e0);\n",
       "  --background-color: var(--jp-layout-color0, white);\n",
       "  --background-color-row-even: var(--jp-layout-color1, white);\n",
       "  --background-color-row-odd: var(--jp-layout-color2, #eeeeee);\n",
       "}\n",
       "\n",
       "html[theme=\"dark\"],\n",
       "body[data-theme=\"dark\"],\n",
       "body.vscode-dark {\n",
       "  --font-color-primary: rgba(255, 255, 255, 1);\n",
       "  --font-color-secondary: rgba(255, 255, 255, 0.7);\n",
       "  --font-color-accent: rgb(173, 132, 190);\n",
       "  --border-color: #2e2e2e;\n",
       "  --background-color: #111111;\n",
       "  --background-color-row-even: #111111;\n",
       "  --background-color-row-odd: #313131;\n",
       "}\n",
       "\n",
       ".eerepr {\n",
       "  padding: 1em;\n",
       "  line-height: 1.5em;\n",
       "  min-width: 300px;\n",
       "  max-width: 1200px;\n",
       "  overflow-y: scroll;\n",
       "  max-height: 600px;\n",
       "  border: 1px solid var(--border-color);\n",
       "  font-family: monospace;\n",
       "  font-size: 14px;\n",
       "}\n",
       "\n",
       ".eerepr li {\n",
       "  list-style-type: none;\n",
       "  margin: 0;\n",
       "}\n",
       "\n",
       ".eerepr ul {\n",
       "  padding-left: 1.5em !important;\n",
       "  margin: 0;\n",
       "}\n",
       "\n",
       ".eerepr > ul {\n",
       "  padding-left: 0 !important;\n",
       "}\n",
       "\n",
       ".eerepr summary {\n",
       "  color: var(--font-color-secondary);\n",
       "  cursor: pointer;\n",
       "  margin: 0;\n",
       "}\n",
       "\n",
       ".eerepr summary:hover {\n",
       "  color: var(--font-color-primary);\n",
       "  background-color: var(--background-color-row-odd)\n",
       "}\n",
       "\n",
       ".ee-k {\n",
       "  color: var(--font-color-accent);\n",
       "  margin-right: 6px;\n",
       "}\n",
       "\n",
       ".ee-v {\n",
       "  color: var(--font-color-primary);\n",
       "}\n",
       "\n",
       ".eerepr details > summary::before {\n",
       "  content: '▼';\n",
       "  display: inline-block;\n",
       "  margin-right: 6px;\n",
       "  transition: transform 0.2s;\n",
       "  transform: rotate(-90deg);\n",
       "}\n",
       "\n",
       ".eerepr details[open] > summary::before {\n",
       "  transform: rotate(0deg);\n",
       "}\n",
       "\n",
       ".eerepr details summary::-webkit-details-marker {\n",
       "  display:none;\n",
       "}\n",
       "\n",
       ".eerepr details summary {\n",
       "  list-style-type: none;\n",
       "}\n",
       "</style><div class='eerepr'><ul><li><details><summary>FeatureCollection (55 elements, 2 columns)</summary><ul><li><span class='ee-k'>type:</span><span class='ee-v'>FeatureCollection</span></li><li><details><summary>columns: Object (2 properties)</summary><ul><li><span class='ee-k'>FID_1:</span><span class='ee-v'>Integer</span></li><li><span class='ee-k'>system:index:</span><span class='ee-v'>String</span></li></ul></details></li><li><details><summary>features: List (55 elements)</summary><ul><li><details><summary>0: Feature (Point, 1 property)</summary><ul><li><span class='ee-k'>type:</span><span class='ee-v'>Feature</span></li><li><span class='ee-k'>id:</span><span class='ee-v'>0</span></li><li><details><summary>geometry: Point (77.17, 23.70)</summary><ul><li><span class='ee-k'>type:</span><span class='ee-v'>Point</span></li><li><details><summary>coordinates: [77.17082500000004, 23.700613333000035]</summary><ul><li><span class='ee-k'>0:</span><span class='ee-v'>77.17082500000004</span></li><li><span class='ee-k'>1:</span><span class='ee-v'>23.700613333000035</span></li></ul></details></li></ul></details></li><li><details><summary>properties: Object (1 property)</summary><ul><li><span class='ee-k'>FID_1:</span><span class='ee-v'>1</span></li></ul></details></li></ul></details></li><li><details><summary>1: Feature (Point, 1 property)</summary><ul><li><span class='ee-k'>type:</span><span class='ee-v'>Feature</span></li><li><span class='ee-k'>id:</span><span class='ee-v'>1</span></li><li><details><summary>geometry: Point (77.16, 23.70)</summary><ul><li><span class='ee-k'>type:</span><span class='ee-v'>Point</span></li><li><details><summary>coordinates: [77.15741210000004, 23.701210200000048]</summary><ul><li><span class='ee-k'>0:</span><span class='ee-v'>77.15741210000004</span></li><li><span class='ee-k'>1:</span><span class='ee-v'>23.701210200000048</span></li></ul></details></li></ul></details></li><li><details><summary>properties: Object (1 property)</summary><ul><li><span class='ee-k'>FID_1:</span><span class='ee-v'>2</span></li></ul></details></li></ul></details></li><li><details><summary>2: Feature (Point, 1 property)</summary><ul><li><span class='ee-k'>type:</span><span class='ee-v'>Feature</span></li><li><span class='ee-k'>id:</span><span class='ee-v'>2</span></li><li><details><summary>geometry: Point (77.17, 23.70)</summary><ul><li><span class='ee-k'>type:</span><span class='ee-v'>Point</span></li><li><details><summary>coordinates: [77.16581333300007, 23.703198333000046]</summary><ul><li><span class='ee-k'>0:</span><span class='ee-v'>77.16581333300007</span></li><li><span class='ee-k'>1:</span><span class='ee-v'>23.703198333000046</span></li></ul></details></li></ul></details></li><li><details><summary>properties: Object (1 property)</summary><ul><li><span class='ee-k'>FID_1:</span><span class='ee-v'>3</span></li></ul></details></li></ul></details></li><li><details><summary>3: Feature (Point, 1 property)</summary><ul><li><span class='ee-k'>type:</span><span class='ee-v'>Feature</span></li><li><span class='ee-k'>id:</span><span class='ee-v'>3</span></li><li><details><summary>geometry: Point (77.15, 23.70)</summary><ul><li><span class='ee-k'>type:</span><span class='ee-v'>Point</span></li><li><details><summary>coordinates: [77.15044500000005, 23.704735200000073]</summary><ul><li><span class='ee-k'>0:</span><span class='ee-v'>77.15044500000005</span></li><li><span class='ee-k'>1:</span><span class='ee-v'>23.704735200000073</span></li></ul></details></li></ul></details></li><li><details><summary>properties: Object (1 property)</summary><ul><li><span class='ee-k'>FID_1:</span><span class='ee-v'>4</span></li></ul></details></li></ul></details></li><li><details><summary>4: Feature (Point, 1 property)</summary><ul><li><span class='ee-k'>type:</span><span class='ee-v'>Feature</span></li><li><span class='ee-k'>id:</span><span class='ee-v'>4</span></li><li><details><summary>geometry: Point (77.13, 23.71)</summary><ul><li><span class='ee-k'>type:</span><span class='ee-v'>Point</span></li><li><details><summary>coordinates: [77.13387690000008, 23.712760700000047]</summary><ul><li><span class='ee-k'>0:</span><span class='ee-v'>77.13387690000008</span></li><li><span class='ee-k'>1:</span><span class='ee-v'>23.712760700000047</span></li></ul></details></li></ul></details></li><li><details><summary>properties: Object (1 property)</summary><ul><li><span class='ee-k'>FID_1:</span><span class='ee-v'>5</span></li></ul></details></li></ul></details></li><li><details><summary>5: Feature (Point, 1 property)</summary><ul><li><span class='ee-k'>type:</span><span class='ee-v'>Feature</span></li><li><span class='ee-k'>id:</span><span class='ee-v'>5</span></li><li><details><summary>geometry: Point (77.16, 23.73)</summary><ul><li><span class='ee-k'>type:</span><span class='ee-v'>Point</span></li><li><details><summary>coordinates: [77.16468666700007, 23.729803333000064]</summary><ul><li><span class='ee-k'>0:</span><span class='ee-v'>77.16468666700007</span></li><li><span class='ee-k'>1:</span><span class='ee-v'>23.729803333000064</span></li></ul></details></li></ul></details></li><li><details><summary>properties: Object (1 property)</summary><ul><li><span class='ee-k'>FID_1:</span><span class='ee-v'>6</span></li></ul></details></li></ul></details></li><li><details><summary>6: Feature (Point, 1 property)</summary><ul><li><span class='ee-k'>type:</span><span class='ee-v'>Feature</span></li><li><span class='ee-k'>id:</span><span class='ee-v'>6</span></li><li><details><summary>geometry: Point (77.13, 23.76)</summary><ul><li><span class='ee-k'>type:</span><span class='ee-v'>Point</span></li><li><details><summary>coordinates: [77.13185880000003, 23.76380000000006]</summary><ul><li><span class='ee-k'>0:</span><span class='ee-v'>77.13185880000003</span></li><li><span class='ee-k'>1:</span><span class='ee-v'>23.76380000000006</span></li></ul></details></li></ul></details></li><li><details><summary>properties: Object (1 property)</summary><ul><li><span class='ee-k'>FID_1:</span><span class='ee-v'>7</span></li></ul></details></li></ul></details></li><li><details><summary>7: Feature (Point, 1 property)</summary><ul><li><span class='ee-k'>type:</span><span class='ee-v'>Feature</span></li><li><span class='ee-k'>id:</span><span class='ee-v'>7</span></li><li><details><summary>geometry: Point (77.10, 23.77)</summary><ul><li><span class='ee-k'>type:</span><span class='ee-v'>Point</span></li><li><details><summary>coordinates: [77.09975620000006, 23.766047600000036]</summary><ul><li><span class='ee-k'>0:</span><span class='ee-v'>77.09975620000006</span></li><li><span class='ee-k'>1:</span><span class='ee-v'>23.766047600000036</span></li></ul></details></li></ul></details></li><li><details><summary>properties: Object (1 property)</summary><ul><li><span class='ee-k'>FID_1:</span><span class='ee-v'>8</span></li></ul></details></li></ul></details></li><li><details><summary>8: Feature (Point, 1 property)</summary><ul><li><span class='ee-k'>type:</span><span class='ee-v'>Feature</span></li><li><span class='ee-k'>id:</span><span class='ee-v'>8</span></li><li><details><summary>geometry: Point (76.71, 23.80)</summary><ul><li><span class='ee-k'>type:</span><span class='ee-v'>Point</span></li><li><details><summary>coordinates: [76.71122920000005, 23.802086100000054]</summary><ul><li><span class='ee-k'>0:</span><span class='ee-v'>76.71122920000005</span></li><li><span class='ee-k'>1:</span><span class='ee-v'>23.802086100000054</span></li></ul></details></li></ul></details></li><li><details><summary>properties: Object (1 property)</summary><ul><li><span class='ee-k'>FID_1:</span><span class='ee-v'>9</span></li></ul></details></li></ul></details></li><li><details><summary>9: Feature (Point, 1 property)</summary><ul><li><span class='ee-k'>type:</span><span class='ee-v'>Feature</span></li><li><span class='ee-k'>id:</span><span class='ee-v'>9</span></li><li><details><summary>geometry: Point (76.74, 23.81)</summary><ul><li><span class='ee-k'>type:</span><span class='ee-v'>Point</span></li><li><details><summary>coordinates: [76.74173810000008, 23.81492380000003]</summary><ul><li><span class='ee-k'>0:</span><span class='ee-v'>76.74173810000008</span></li><li><span class='ee-k'>1:</span><span class='ee-v'>23.81492380000003</span></li></ul></details></li></ul></details></li><li><details><summary>properties: Object (1 property)</summary><ul><li><span class='ee-k'>FID_1:</span><span class='ee-v'>10</span></li></ul></details></li></ul></details></li><li><details><summary>10: Feature (Point, 1 property)</summary><ul><li><span class='ee-k'>type:</span><span class='ee-v'>Feature</span></li><li><span class='ee-k'>id:</span><span class='ee-v'>10</span></li><li><details><summary>geometry: Point (76.76, 23.82)</summary><ul><li><span class='ee-k'>type:</span><span class='ee-v'>Point</span></li><li><details><summary>coordinates: [76.75619100000006, 23.824040500000024]</summary><ul><li><span class='ee-k'>0:</span><span class='ee-v'>76.75619100000006</span></li><li><span class='ee-k'>1:</span><span class='ee-v'>23.824040500000024</span></li></ul></details></li></ul></details></li><li><details><summary>properties: Object (1 property)</summary><ul><li><span class='ee-k'>FID_1:</span><span class='ee-v'>11</span></li></ul></details></li></ul></details></li><li><details><summary>11: Feature (Point, 1 property)</summary><ul><li><span class='ee-k'>type:</span><span class='ee-v'>Feature</span></li><li><span class='ee-k'>id:</span><span class='ee-v'>11</span></li><li><details><summary>geometry: Point (76.72, 23.84)</summary><ul><li><span class='ee-k'>type:</span><span class='ee-v'>Point</span></li><li><details><summary>coordinates: [76.72414550000008, 23.844151200000056]</summary><ul><li><span class='ee-k'>0:</span><span class='ee-v'>76.72414550000008</span></li><li><span class='ee-k'>1:</span><span class='ee-v'>23.844151200000056</span></li></ul></details></li></ul></details></li><li><details><summary>properties: Object (1 property)</summary><ul><li><span class='ee-k'>FID_1:</span><span class='ee-v'>12</span></li></ul></details></li></ul></details></li><li><details><summary>12: Feature (Point, 1 property)</summary><ul><li><span class='ee-k'>type:</span><span class='ee-v'>Feature</span></li><li><span class='ee-k'>id:</span><span class='ee-v'>12</span></li><li><details><summary>geometry: Point (76.73, 23.85)</summary><ul><li><span class='ee-k'>type:</span><span class='ee-v'>Point</span></li><li><details><summary>coordinates: [76.72543710000008, 23.853960400000062]</summary><ul><li><span class='ee-k'>0:</span><span class='ee-v'>76.72543710000008</span></li><li><span class='ee-k'>1:</span><span class='ee-v'>23.853960400000062</span></li></ul></details></li></ul></details></li><li><details><summary>properties: Object (1 property)</summary><ul><li><span class='ee-k'>FID_1:</span><span class='ee-v'>13</span></li></ul></details></li></ul></details></li><li><details><summary>13: Feature (Point, 1 property)</summary><ul><li><span class='ee-k'>type:</span><span class='ee-v'>Feature</span></li><li><span class='ee-k'>id:</span><span class='ee-v'>13</span></li><li><details><summary>geometry: Point (76.72, 23.86)</summary><ul><li><span class='ee-k'>type:</span><span class='ee-v'>Point</span></li><li><details><summary>coordinates: [76.72305750000004, 23.86262430000005]</summary><ul><li><span class='ee-k'>0:</span><span class='ee-v'>76.72305750000004</span></li><li><span class='ee-k'>1:</span><span class='ee-v'>23.86262430000005</span></li></ul></details></li></ul></details></li><li><details><summary>properties: Object (1 property)</summary><ul><li><span class='ee-k'>FID_1:</span><span class='ee-v'>14</span></li></ul></details></li></ul></details></li><li><details><summary>14: Feature (Point, 1 property)</summary><ul><li><span class='ee-k'>type:</span><span class='ee-v'>Feature</span></li><li><span class='ee-k'>id:</span><span class='ee-v'>14</span></li><li><details><summary>geometry: Point (76.76, 23.86)</summary><ul><li><span class='ee-k'>type:</span><span class='ee-v'>Point</span></li><li><details><summary>coordinates: [76.75892990000006, 23.862809200000072]</summary><ul><li><span class='ee-k'>0:</span><span class='ee-v'>76.75892990000006</span></li><li><span class='ee-k'>1:</span><span class='ee-v'>23.862809200000072</span></li></ul></details></li></ul></details></li><li><details><summary>properties: Object (1 property)</summary><ul><li><span class='ee-k'>FID_1:</span><span class='ee-v'>15</span></li></ul></details></li></ul></details></li><li><details><summary>15: Feature (Point, 1 property)</summary><ul><li><span class='ee-k'>type:</span><span class='ee-v'>Feature</span></li><li><span class='ee-k'>id:</span><span class='ee-v'>15</span></li><li><details><summary>geometry: Point (76.73, 23.87)</summary><ul><li><span class='ee-k'>type:</span><span class='ee-v'>Point</span></li><li><details><summary>coordinates: [76.73339670000007, 23.866656700000078]</summary><ul><li><span class='ee-k'>0:</span><span class='ee-v'>76.73339670000007</span></li><li><span class='ee-k'>1:</span><span class='ee-v'>23.866656700000078</span></li></ul></details></li></ul></details></li><li><details><summary>properties: Object (1 property)</summary><ul><li><span class='ee-k'>FID_1:</span><span class='ee-v'>16</span></li></ul></details></li></ul></details></li><li><details><summary>16: Feature (Point, 1 property)</summary><ul><li><span class='ee-k'>type:</span><span class='ee-v'>Feature</span></li><li><span class='ee-k'>id:</span><span class='ee-v'>16</span></li><li><details><summary>geometry: Point (76.75, 23.89)</summary><ul><li><span class='ee-k'>type:</span><span class='ee-v'>Point</span></li><li><details><summary>coordinates: [76.74852350000003, 23.885455600000057]</summary><ul><li><span class='ee-k'>0:</span><span class='ee-v'>76.74852350000003</span></li><li><span class='ee-k'>1:</span><span class='ee-v'>23.885455600000057</span></li></ul></details></li></ul></details></li><li><details><summary>properties: Object (1 property)</summary><ul><li><span class='ee-k'>FID_1:</span><span class='ee-v'>17</span></li></ul></details></li></ul></details></li><li><details><summary>17: Feature (Point, 1 property)</summary><ul><li><span class='ee-k'>type:</span><span class='ee-v'>Feature</span></li><li><span class='ee-k'>id:</span><span class='ee-v'>17</span></li><li><details><summary>geometry: Point (76.74, 23.92)</summary><ul><li><span class='ee-k'>type:</span><span class='ee-v'>Point</span></li><li><details><summary>coordinates: [76.74314254500007, 23.924397098000043]</summary><ul><li><span class='ee-k'>0:</span><span class='ee-v'>76.74314254500007</span></li><li><span class='ee-k'>1:</span><span class='ee-v'>23.924397098000043</span></li></ul></details></li></ul></details></li><li><details><summary>properties: Object (1 property)</summary><ul><li><span class='ee-k'>FID_1:</span><span class='ee-v'>18</span></li></ul></details></li></ul></details></li><li><details><summary>18: Feature (Point, 1 property)</summary><ul><li><span class='ee-k'>type:</span><span class='ee-v'>Feature</span></li><li><span class='ee-k'>id:</span><span class='ee-v'>18</span></li><li><details><summary>geometry: Point (76.73, 23.94)</summary><ul><li><span class='ee-k'>type:</span><span class='ee-v'>Point</span></li><li><details><summary>coordinates: [76.72773490000003, 23.93697480000003]</summary><ul><li><span class='ee-k'>0:</span><span class='ee-v'>76.72773490000003</span></li><li><span class='ee-k'>1:</span><span class='ee-v'>23.93697480000003</span></li></ul></details></li></ul></details></li><li><details><summary>properties: Object (1 property)</summary><ul><li><span class='ee-k'>FID_1:</span><span class='ee-v'>19</span></li></ul></details></li></ul></details></li><li><details><summary>19: Feature (Point, 1 property)</summary><ul><li><span class='ee-k'>type:</span><span class='ee-v'>Feature</span></li><li><span class='ee-k'>id:</span><span class='ee-v'>19</span></li><li><details><summary>geometry: Point (76.74, 23.95)</summary><ul><li><span class='ee-k'>type:</span><span class='ee-v'>Point</span></li><li><details><summary>coordinates: [76.74492770000006, 23.949142900000027]</summary><ul><li><span class='ee-k'>0:</span><span class='ee-v'>76.74492770000006</span></li><li><span class='ee-k'>1:</span><span class='ee-v'>23.949142900000027</span></li></ul></details></li></ul></details></li><li><details><summary>properties: Object (1 property)</summary><ul><li><span class='ee-k'>FID_1:</span><span class='ee-v'>20</span></li></ul></details></li></ul></details></li><li><details><summary>20: Feature (Point, 1 property)</summary><ul><li><span class='ee-k'>type:</span><span class='ee-v'>Feature</span></li><li><span class='ee-k'>id:</span><span class='ee-v'>20</span></li><li><details><summary>geometry: Point (76.76, 23.99)</summary><ul><li><span class='ee-k'>type:</span><span class='ee-v'>Point</span></li><li><details><summary>coordinates: [76.75907910000006, 23.992665000000045]</summary><ul><li><span class='ee-k'>0:</span><span class='ee-v'>76.75907910000006</span></li><li><span class='ee-k'>1:</span><span class='ee-v'>23.992665000000045</span></li></ul></details></li></ul></details></li><li><details><summary>properties: Object (1 property)</summary><ul><li><span class='ee-k'>FID_1:</span><span class='ee-v'>21</span></li></ul></details></li></ul></details></li><li><details><summary>21: Feature (Point, 1 property)</summary><ul><li><span class='ee-k'>type:</span><span class='ee-v'>Feature</span></li><li><span class='ee-k'>id:</span><span class='ee-v'>21</span></li><li><details><summary>geometry: Point (76.77, 24.00)</summary><ul><li><span class='ee-k'>type:</span><span class='ee-v'>Point</span></li><li><details><summary>coordinates: [76.76788470000008, 23.996428200000025]</summary><ul><li><span class='ee-k'>0:</span><span class='ee-v'>76.76788470000008</span></li><li><span class='ee-k'>1:</span><span class='ee-v'>23.996428200000025</span></li></ul></details></li></ul></details></li><li><details><summary>properties: Object (1 property)</summary><ul><li><span class='ee-k'>FID_1:</span><span class='ee-v'>22</span></li></ul></details></li></ul></details></li><li><details><summary>22: Feature (Point, 1 property)</summary><ul><li><span class='ee-k'>type:</span><span class='ee-v'>Feature</span></li><li><span class='ee-k'>id:</span><span class='ee-v'>22</span></li><li><details><summary>geometry: Point (76.75, 24.00)</summary><ul><li><span class='ee-k'>type:</span><span class='ee-v'>Point</span></li><li><details><summary>coordinates: [76.75315308000006, 24.003101910000055]</summary><ul><li><span class='ee-k'>0:</span><span class='ee-v'>76.75315308000006</span></li><li><span class='ee-k'>1:</span><span class='ee-v'>24.003101910000055</span></li></ul></details></li></ul></details></li><li><details><summary>properties: Object (1 property)</summary><ul><li><span class='ee-k'>FID_1:</span><span class='ee-v'>23</span></li></ul></details></li></ul></details></li><li><details><summary>23: Feature (Point, 1 property)</summary><ul><li><span class='ee-k'>type:</span><span class='ee-v'>Feature</span></li><li><span class='ee-k'>id:</span><span class='ee-v'>23</span></li><li><details><summary>geometry: Point (76.82, 24.01)</summary><ul><li><span class='ee-k'>type:</span><span class='ee-v'>Point</span></li><li><details><summary>coordinates: [76.81966900000003, 24.005711100000042]</summary><ul><li><span class='ee-k'>0:</span><span class='ee-v'>76.81966900000003</span></li><li><span class='ee-k'>1:</span><span class='ee-v'>24.005711100000042</span></li></ul></details></li></ul></details></li><li><details><summary>properties: Object (1 property)</summary><ul><li><span class='ee-k'>FID_1:</span><span class='ee-v'>24</span></li></ul></details></li></ul></details></li><li><details><summary>24: Feature (Point, 1 property)</summary><ul><li><span class='ee-k'>type:</span><span class='ee-v'>Feature</span></li><li><span class='ee-k'>id:</span><span class='ee-v'>24</span></li><li><details><summary>geometry: Point (76.76, 24.01)</summary><ul><li><span class='ee-k'>type:</span><span class='ee-v'>Point</span></li><li><details><summary>coordinates: [76.75591559000003, 24.011093600000038]</summary><ul><li><span class='ee-k'>0:</span><span class='ee-v'>76.75591559000003</span></li><li><span class='ee-k'>1:</span><span class='ee-v'>24.011093600000038</span></li></ul></details></li></ul></details></li><li><details><summary>properties: Object (1 property)</summary><ul><li><span class='ee-k'>FID_1:</span><span class='ee-v'>25</span></li></ul></details></li></ul></details></li><li><details><summary>25: Feature (Point, 1 property)</summary><ul><li><span class='ee-k'>type:</span><span class='ee-v'>Feature</span></li><li><span class='ee-k'>id:</span><span class='ee-v'>25</span></li><li><details><summary>geometry: Point (77.12, 24.01)</summary><ul><li><span class='ee-k'>type:</span><span class='ee-v'>Point</span></li><li><details><summary>coordinates: [77.12332110000006, 24.014134300000023]</summary><ul><li><span class='ee-k'>0:</span><span class='ee-v'>77.12332110000006</span></li><li><span class='ee-k'>1:</span><span class='ee-v'>24.014134300000023</span></li></ul></details></li></ul></details></li><li><details><summary>properties: Object (1 property)</summary><ul><li><span class='ee-k'>FID_1:</span><span class='ee-v'>26</span></li></ul></details></li></ul></details></li><li><details><summary>26: Feature (Point, 1 property)</summary><ul><li><span class='ee-k'>type:</span><span class='ee-v'>Feature</span></li><li><span class='ee-k'>id:</span><span class='ee-v'>26</span></li><li><details><summary>geometry: Point (76.80, 24.01)</summary><ul><li><span class='ee-k'>type:</span><span class='ee-v'>Point</span></li><li><details><summary>coordinates: [76.79885505000004, 24.01477174000007]</summary><ul><li><span class='ee-k'>0:</span><span class='ee-v'>76.79885505000004</span></li><li><span class='ee-k'>1:</span><span class='ee-v'>24.01477174000007</span></li></ul></details></li></ul></details></li><li><details><summary>properties: Object (1 property)</summary><ul><li><span class='ee-k'>FID_1:</span><span class='ee-v'>27</span></li></ul></details></li></ul></details></li><li><details><summary>27: Feature (Point, 1 property)</summary><ul><li><span class='ee-k'>type:</span><span class='ee-v'>Feature</span></li><li><span class='ee-k'>id:</span><span class='ee-v'>27</span></li><li><details><summary>geometry: Point (76.83, 24.02)</summary><ul><li><span class='ee-k'>type:</span><span class='ee-v'>Point</span></li><li><details><summary>coordinates: [76.83338058000004, 24.017355830000042]</summary><ul><li><span class='ee-k'>0:</span><span class='ee-v'>76.83338058000004</span></li><li><span class='ee-k'>1:</span><span class='ee-v'>24.017355830000042</span></li></ul></details></li></ul></details></li><li><details><summary>properties: Object (1 property)</summary><ul><li><span class='ee-k'>FID_1:</span><span class='ee-v'>28</span></li></ul></details></li></ul></details></li><li><details><summary>28: Feature (Point, 1 property)</summary><ul><li><span class='ee-k'>type:</span><span class='ee-v'>Feature</span></li><li><span class='ee-k'>id:</span><span class='ee-v'>28</span></li><li><details><summary>geometry: Point (76.82, 24.02)</summary><ul><li><span class='ee-k'>type:</span><span class='ee-v'>Point</span></li><li><details><summary>coordinates: [76.81897737000008, 24.02126240000007]</summary><ul><li><span class='ee-k'>0:</span><span class='ee-v'>76.81897737000008</span></li><li><span class='ee-k'>1:</span><span class='ee-v'>24.02126240000007</span></li></ul></details></li></ul></details></li><li><details><summary>properties: Object (1 property)</summary><ul><li><span class='ee-k'>FID_1:</span><span class='ee-v'>29</span></li></ul></details></li></ul></details></li><li><details><summary>29: Feature (Point, 1 property)</summary><ul><li><span class='ee-k'>type:</span><span class='ee-v'>Feature</span></li><li><span class='ee-k'>id:</span><span class='ee-v'>29</span></li><li><details><summary>geometry: Point (76.78, 24.04)</summary><ul><li><span class='ee-k'>type:</span><span class='ee-v'>Point</span></li><li><details><summary>coordinates: [76.78210836000005, 24.036826690000055]</summary><ul><li><span class='ee-k'>0:</span><span class='ee-v'>76.78210836000005</span></li><li><span class='ee-k'>1:</span><span class='ee-v'>24.036826690000055</span></li></ul></details></li></ul></details></li><li><details><summary>properties: Object (1 property)</summary><ul><li><span class='ee-k'>FID_1:</span><span class='ee-v'>30</span></li></ul></details></li></ul></details></li><li><details><summary>30: Feature (Point, 1 property)</summary><ul><li><span class='ee-k'>type:</span><span class='ee-v'>Feature</span></li><li><span class='ee-k'>id:</span><span class='ee-v'>30</span></li><li><details><summary>geometry: Point (77.10, 24.05)</summary><ul><li><span class='ee-k'>type:</span><span class='ee-v'>Point</span></li><li><details><summary>coordinates: [77.10037333300005, 24.05047333300007]</summary><ul><li><span class='ee-k'>0:</span><span class='ee-v'>77.10037333300005</span></li><li><span class='ee-k'>1:</span><span class='ee-v'>24.05047333300007</span></li></ul></details></li></ul></details></li><li><details><summary>properties: Object (1 property)</summary><ul><li><span class='ee-k'>FID_1:</span><span class='ee-v'>31</span></li></ul></details></li></ul></details></li><li><details><summary>31: Feature (Point, 1 property)</summary><ul><li><span class='ee-k'>type:</span><span class='ee-v'>Feature</span></li><li><span class='ee-k'>id:</span><span class='ee-v'>31</span></li><li><details><summary>geometry: Point (77.11, 24.06)</summary><ul><li><span class='ee-k'>type:</span><span class='ee-v'>Point</span></li><li><details><summary>coordinates: [77.10597330000007, 24.056755000000067]</summary><ul><li><span class='ee-k'>0:</span><span class='ee-v'>77.10597330000007</span></li><li><span class='ee-k'>1:</span><span class='ee-v'>24.056755000000067</span></li></ul></details></li></ul></details></li><li><details><summary>properties: Object (1 property)</summary><ul><li><span class='ee-k'>FID_1:</span><span class='ee-v'>32</span></li></ul></details></li></ul></details></li><li><details><summary>32: Feature (Point, 1 property)</summary><ul><li><span class='ee-k'>type:</span><span class='ee-v'>Feature</span></li><li><span class='ee-k'>id:</span><span class='ee-v'>32</span></li><li><details><summary>geometry: Point (77.07, 24.06)</summary><ul><li><span class='ee-k'>type:</span><span class='ee-v'>Point</span></li><li><details><summary>coordinates: [77.07472500000006, 24.057938300000046]</summary><ul><li><span class='ee-k'>0:</span><span class='ee-v'>77.07472500000006</span></li><li><span class='ee-k'>1:</span><span class='ee-v'>24.057938300000046</span></li></ul></details></li></ul></details></li><li><details><summary>properties: Object (1 property)</summary><ul><li><span class='ee-k'>FID_1:</span><span class='ee-v'>33</span></li></ul></details></li></ul></details></li><li><details><summary>33: Feature (Point, 1 property)</summary><ul><li><span class='ee-k'>type:</span><span class='ee-v'>Feature</span></li><li><span class='ee-k'>id:</span><span class='ee-v'>33</span></li><li><details><summary>geometry: Point (77.07, 24.06)</summary><ul><li><span class='ee-k'>type:</span><span class='ee-v'>Point</span></li><li><details><summary>coordinates: [77.07455990000005, 24.063487800000075]</summary><ul><li><span class='ee-k'>0:</span><span class='ee-v'>77.07455990000005</span></li><li><span class='ee-k'>1:</span><span class='ee-v'>24.063487800000075</span></li></ul></details></li></ul></details></li><li><details><summary>properties: Object (1 property)</summary><ul><li><span class='ee-k'>FID_1:</span><span class='ee-v'>34</span></li></ul></details></li></ul></details></li><li><details><summary>34: Feature (Point, 1 property)</summary><ul><li><span class='ee-k'>type:</span><span class='ee-v'>Feature</span></li><li><span class='ee-k'>id:</span><span class='ee-v'>34</span></li><li><details><summary>geometry: Point (77.11, 24.07)</summary><ul><li><span class='ee-k'>type:</span><span class='ee-v'>Point</span></li><li><details><summary>coordinates: [77.10594790000005, 24.06636240000006]</summary><ul><li><span class='ee-k'>0:</span><span class='ee-v'>77.10594790000005</span></li><li><span class='ee-k'>1:</span><span class='ee-v'>24.06636240000006</span></li></ul></details></li></ul></details></li><li><details><summary>properties: Object (1 property)</summary><ul><li><span class='ee-k'>FID_1:</span><span class='ee-v'>35</span></li></ul></details></li></ul></details></li><li><details><summary>35: Feature (Point, 1 property)</summary><ul><li><span class='ee-k'>type:</span><span class='ee-v'>Feature</span></li><li><span class='ee-k'>id:</span><span class='ee-v'>35</span></li><li><details><summary>geometry: Point (77.08, 24.07)</summary><ul><li><span class='ee-k'>type:</span><span class='ee-v'>Point</span></li><li><details><summary>coordinates: [77.08033166700005, 24.066383333000033]</summary><ul><li><span class='ee-k'>0:</span><span class='ee-v'>77.08033166700005</span></li><li><span class='ee-k'>1:</span><span class='ee-v'>24.066383333000033</span></li></ul></details></li></ul></details></li><li><details><summary>properties: Object (1 property)</summary><ul><li><span class='ee-k'>FID_1:</span><span class='ee-v'>36</span></li></ul></details></li></ul></details></li><li><details><summary>36: Feature (Point, 1 property)</summary><ul><li><span class='ee-k'>type:</span><span class='ee-v'>Feature</span></li><li><span class='ee-k'>id:</span><span class='ee-v'>36</span></li><li><details><summary>geometry: Point (77.07, 24.07)</summary><ul><li><span class='ee-k'>type:</span><span class='ee-v'>Point</span></li><li><details><summary>coordinates: [77.06657810000007, 24.074529400000074]</summary><ul><li><span class='ee-k'>0:</span><span class='ee-v'>77.06657810000007</span></li><li><span class='ee-k'>1:</span><span class='ee-v'>24.074529400000074</span></li></ul></details></li></ul></details></li><li><details><summary>properties: Object (1 property)</summary><ul><li><span class='ee-k'>FID_1:</span><span class='ee-v'>37</span></li></ul></details></li></ul></details></li><li><details><summary>37: Feature (Point, 1 property)</summary><ul><li><span class='ee-k'>type:</span><span class='ee-v'>Feature</span></li><li><span class='ee-k'>id:</span><span class='ee-v'>37</span></li><li><details><summary>geometry: Point (77.11, 24.08)</summary><ul><li><span class='ee-k'>type:</span><span class='ee-v'>Point</span></li><li><details><summary>coordinates: [77.10561140000004, 24.07653810000005]</summary><ul><li><span class='ee-k'>0:</span><span class='ee-v'>77.10561140000004</span></li><li><span class='ee-k'>1:</span><span class='ee-v'>24.07653810000005</span></li></ul></details></li></ul></details></li><li><details><summary>properties: Object (1 property)</summary><ul><li><span class='ee-k'>FID_1:</span><span class='ee-v'>38</span></li></ul></details></li></ul></details></li><li><details><summary>38: Feature (Point, 1 property)</summary><ul><li><span class='ee-k'>type:</span><span class='ee-v'>Feature</span></li><li><span class='ee-k'>id:</span><span class='ee-v'>38</span></li><li><details><summary>geometry: Point (76.59, 24.11)</summary><ul><li><span class='ee-k'>type:</span><span class='ee-v'>Point</span></li><li><details><summary>coordinates: [76.59151833300007, 24.108855000000062]</summary><ul><li><span class='ee-k'>0:</span><span class='ee-v'>76.59151833300007</span></li><li><span class='ee-k'>1:</span><span class='ee-v'>24.108855000000062</span></li></ul></details></li></ul></details></li><li><details><summary>properties: Object (1 property)</summary><ul><li><span class='ee-k'>FID_1:</span><span class='ee-v'>39</span></li></ul></details></li></ul></details></li><li><details><summary>39: Feature (Point, 1 property)</summary><ul><li><span class='ee-k'>type:</span><span class='ee-v'>Feature</span></li><li><span class='ee-k'>id:</span><span class='ee-v'>39</span></li><li><details><summary>geometry: Point (76.47, 24.12)</summary><ul><li><span class='ee-k'>type:</span><span class='ee-v'>Point</span></li><li><details><summary>coordinates: [76.47133666700006, 24.11505333300005]</summary><ul><li><span class='ee-k'>0:</span><span class='ee-v'>76.47133666700006</span></li><li><span class='ee-k'>1:</span><span class='ee-v'>24.11505333300005</span></li></ul></details></li></ul></details></li><li><details><summary>properties: Object (1 property)</summary><ul><li><span class='ee-k'>FID_1:</span><span class='ee-v'>40</span></li></ul></details></li></ul></details></li><li><details><summary>40: Feature (Point, 1 property)</summary><ul><li><span class='ee-k'>type:</span><span class='ee-v'>Feature</span></li><li><span class='ee-k'>id:</span><span class='ee-v'>40</span></li><li><details><summary>geometry: Point (76.44, 24.13)</summary><ul><li><span class='ee-k'>type:</span><span class='ee-v'>Point</span></li><li><details><summary>coordinates: [76.44374500000004, 24.126855000000035]</summary><ul><li><span class='ee-k'>0:</span><span class='ee-v'>76.44374500000004</span></li><li><span class='ee-k'>1:</span><span class='ee-v'>24.126855000000035</span></li></ul></details></li></ul></details></li><li><details><summary>properties: Object (1 property)</summary><ul><li><span class='ee-k'>FID_1:</span><span class='ee-v'>41</span></li></ul></details></li></ul></details></li><li><details><summary>41: Feature (Point, 1 property)</summary><ul><li><span class='ee-k'>type:</span><span class='ee-v'>Feature</span></li><li><span class='ee-k'>id:</span><span class='ee-v'>41</span></li><li><details><summary>geometry: Point (76.57, 24.14)</summary><ul><li><span class='ee-k'>type:</span><span class='ee-v'>Point</span></li><li><details><summary>coordinates: [76.57214040000008, 24.140826700000048]</summary><ul><li><span class='ee-k'>0:</span><span class='ee-v'>76.57214040000008</span></li><li><span class='ee-k'>1:</span><span class='ee-v'>24.140826700000048</span></li></ul></details></li></ul></details></li><li><details><summary>properties: Object (1 property)</summary><ul><li><span class='ee-k'>FID_1:</span><span class='ee-v'>42</span></li></ul></details></li></ul></details></li><li><details><summary>42: Feature (Point, 1 property)</summary><ul><li><span class='ee-k'>type:</span><span class='ee-v'>Feature</span></li><li><span class='ee-k'>id:</span><span class='ee-v'>42</span></li><li><details><summary>geometry: Point (76.45, 24.15)</summary><ul><li><span class='ee-k'>type:</span><span class='ee-v'>Point</span></li><li><details><summary>coordinates: [76.45252361200005, 24.146644585000047]</summary><ul><li><span class='ee-k'>0:</span><span class='ee-v'>76.45252361200005</span></li><li><span class='ee-k'>1:</span><span class='ee-v'>24.146644585000047</span></li></ul></details></li></ul></details></li><li><details><summary>properties: Object (1 property)</summary><ul><li><span class='ee-k'>FID_1:</span><span class='ee-v'>43</span></li></ul></details></li></ul></details></li><li><details><summary>43: Feature (Point, 1 property)</summary><ul><li><span class='ee-k'>type:</span><span class='ee-v'>Feature</span></li><li><span class='ee-k'>id:</span><span class='ee-v'>43</span></li><li><details><summary>geometry: Point (76.47, 24.16)</summary><ul><li><span class='ee-k'>type:</span><span class='ee-v'>Point</span></li><li><details><summary>coordinates: [76.46630333300004, 24.16300166700006]</summary><ul><li><span class='ee-k'>0:</span><span class='ee-v'>76.46630333300004</span></li><li><span class='ee-k'>1:</span><span class='ee-v'>24.16300166700006</span></li></ul></details></li></ul></details></li><li><details><summary>properties: Object (1 property)</summary><ul><li><span class='ee-k'>FID_1:</span><span class='ee-v'>44</span></li></ul></details></li></ul></details></li><li><details><summary>44: Feature (Point, 1 property)</summary><ul><li><span class='ee-k'>type:</span><span class='ee-v'>Feature</span></li><li><span class='ee-k'>id:</span><span class='ee-v'>44</span></li><li><details><summary>geometry: Point (76.45, 24.17)</summary><ul><li><span class='ee-k'>type:</span><span class='ee-v'>Point</span></li><li><details><summary>coordinates: [76.45084000000008, 24.169543333000036]</summary><ul><li><span class='ee-k'>0:</span><span class='ee-v'>76.45084000000008</span></li><li><span class='ee-k'>1:</span><span class='ee-v'>24.169543333000036</span></li></ul></details></li></ul></details></li><li><details><summary>properties: Object (1 property)</summary><ul><li><span class='ee-k'>FID_1:</span><span class='ee-v'>45</span></li></ul></details></li></ul></details></li><li><details><summary>45: Feature (Point, 1 property)</summary><ul><li><span class='ee-k'>type:</span><span class='ee-v'>Feature</span></li><li><span class='ee-k'>id:</span><span class='ee-v'>45</span></li><li><details><summary>geometry: Point (76.46, 24.17)</summary><ul><li><span class='ee-k'>type:</span><span class='ee-v'>Point</span></li><li><details><summary>coordinates: [76.46204166700005, 24.174270000000035]</summary><ul><li><span class='ee-k'>0:</span><span class='ee-v'>76.46204166700005</span></li><li><span class='ee-k'>1:</span><span class='ee-v'>24.174270000000035</span></li></ul></details></li></ul></details></li><li><details><summary>properties: Object (1 property)</summary><ul><li><span class='ee-k'>FID_1:</span><span class='ee-v'>46</span></li></ul></details></li></ul></details></li><li><details><summary>46: Feature (Point, 1 property)</summary><ul><li><span class='ee-k'>type:</span><span class='ee-v'>Feature</span></li><li><span class='ee-k'>id:</span><span class='ee-v'>46</span></li><li><details><summary>geometry: Point (76.43, 24.18)</summary><ul><li><span class='ee-k'>type:</span><span class='ee-v'>Point</span></li><li><details><summary>coordinates: [76.42837666700007, 24.18250500000005]</summary><ul><li><span class='ee-k'>0:</span><span class='ee-v'>76.42837666700007</span></li><li><span class='ee-k'>1:</span><span class='ee-v'>24.18250500000005</span></li></ul></details></li></ul></details></li><li><details><summary>properties: Object (1 property)</summary><ul><li><span class='ee-k'>FID_1:</span><span class='ee-v'>47</span></li></ul></details></li></ul></details></li><li><details><summary>47: Feature (Point, 1 property)</summary><ul><li><span class='ee-k'>type:</span><span class='ee-v'>Feature</span></li><li><span class='ee-k'>id:</span><span class='ee-v'>47</span></li><li><details><summary>geometry: Point (76.45, 24.19)</summary><ul><li><span class='ee-k'>type:</span><span class='ee-v'>Point</span></li><li><details><summary>coordinates: [76.45250329000004, 24.193210786000066]</summary><ul><li><span class='ee-k'>0:</span><span class='ee-v'>76.45250329000004</span></li><li><span class='ee-k'>1:</span><span class='ee-v'>24.193210786000066</span></li></ul></details></li></ul></details></li><li><details><summary>properties: Object (1 property)</summary><ul><li><span class='ee-k'>FID_1:</span><span class='ee-v'>48</span></li></ul></details></li></ul></details></li><li><details><summary>48: Feature (Point, 1 property)</summary><ul><li><span class='ee-k'>type:</span><span class='ee-v'>Feature</span></li><li><span class='ee-k'>id:</span><span class='ee-v'>48</span></li><li><details><summary>geometry: Point (76.43, 24.20)</summary><ul><li><span class='ee-k'>type:</span><span class='ee-v'>Point</span></li><li><details><summary>coordinates: [76.43249333300008, 24.20301500000005]</summary><ul><li><span class='ee-k'>0:</span><span class='ee-v'>76.43249333300008</span></li><li><span class='ee-k'>1:</span><span class='ee-v'>24.20301500000005</span></li></ul></details></li></ul></details></li><li><details><summary>properties: Object (1 property)</summary><ul><li><span class='ee-k'>FID_1:</span><span class='ee-v'>49</span></li></ul></details></li></ul></details></li><li><details><summary>49: Feature (Point, 1 property)</summary><ul><li><span class='ee-k'>type:</span><span class='ee-v'>Feature</span></li><li><span class='ee-k'>id:</span><span class='ee-v'>49</span></li><li><details><summary>geometry: Point (76.76, 23.98)</summary><ul><li><span class='ee-k'>type:</span><span class='ee-v'>Point</span></li><li><details><summary>coordinates: [76.75830146000004, 23.982476890000044]</summary><ul><li><span class='ee-k'>0:</span><span class='ee-v'>76.75830146000004</span></li><li><span class='ee-k'>1:</span><span class='ee-v'>23.982476890000044</span></li></ul></details></li></ul></details></li><li><details><summary>properties: Object (1 property)</summary><ul><li><span class='ee-k'>FID_1:</span><span class='ee-v'>50</span></li></ul></details></li></ul></details></li><li><details><summary>50: Feature (Point, 1 property)</summary><ul><li><span class='ee-k'>type:</span><span class='ee-v'>Feature</span></li><li><span class='ee-k'>id:</span><span class='ee-v'>50</span></li><li><details><summary>geometry: Point (76.84, 24.00)</summary><ul><li><span class='ee-k'>type:</span><span class='ee-v'>Point</span></li><li><details><summary>coordinates: [76.83741750000007, 23.997366300000067]</summary><ul><li><span class='ee-k'>0:</span><span class='ee-v'>76.83741750000007</span></li><li><span class='ee-k'>1:</span><span class='ee-v'>23.997366300000067</span></li></ul></details></li></ul></details></li><li><details><summary>properties: Object (1 property)</summary><ul><li><span class='ee-k'>FID_1:</span><span class='ee-v'>51</span></li></ul></details></li></ul></details></li><li><details><summary>51: Feature (Point, 1 property)</summary><ul><li><span class='ee-k'>type:</span><span class='ee-v'>Feature</span></li><li><span class='ee-k'>id:</span><span class='ee-v'>51</span></li><li><details><summary>geometry: Point (77.10, 24.00)</summary><ul><li><span class='ee-k'>type:</span><span class='ee-v'>Point</span></li><li><details><summary>coordinates: [77.10127320000004, 24.00363600000003]</summary><ul><li><span class='ee-k'>0:</span><span class='ee-v'>77.10127320000004</span></li><li><span class='ee-k'>1:</span><span class='ee-v'>24.00363600000003</span></li></ul></details></li></ul></details></li><li><details><summary>properties: Object (1 property)</summary><ul><li><span class='ee-k'>FID_1:</span><span class='ee-v'>52</span></li></ul></details></li></ul></details></li><li><details><summary>52: Feature (Point, 1 property)</summary><ul><li><span class='ee-k'>type:</span><span class='ee-v'>Feature</span></li><li><span class='ee-k'>id:</span><span class='ee-v'>52</span></li><li><details><summary>geometry: Point (77.09, 24.01)</summary><ul><li><span class='ee-k'>type:</span><span class='ee-v'>Point</span></li><li><details><summary>coordinates: [77.09451440000004, 24.010966100000076]</summary><ul><li><span class='ee-k'>0:</span><span class='ee-v'>77.09451440000004</span></li><li><span class='ee-k'>1:</span><span class='ee-v'>24.010966100000076</span></li></ul></details></li></ul></details></li><li><details><summary>properties: Object (1 property)</summary><ul><li><span class='ee-k'>FID_1:</span><span class='ee-v'>53</span></li></ul></details></li></ul></details></li><li><details><summary>53: Feature (Point, 1 property)</summary><ul><li><span class='ee-k'>type:</span><span class='ee-v'>Feature</span></li><li><span class='ee-k'>id:</span><span class='ee-v'>53</span></li><li><details><summary>geometry: Point (77.12, 24.07)</summary><ul><li><span class='ee-k'>type:</span><span class='ee-v'>Point</span></li><li><details><summary>coordinates: [77.11986666700005, 24.065420000000074]</summary><ul><li><span class='ee-k'>0:</span><span class='ee-v'>77.11986666700005</span></li><li><span class='ee-k'>1:</span><span class='ee-v'>24.065420000000074</span></li></ul></details></li></ul></details></li><li><details><summary>properties: Object (1 property)</summary><ul><li><span class='ee-k'>FID_1:</span><span class='ee-v'>54</span></li></ul></details></li></ul></details></li><li><details><summary>54: Feature (Point, 1 property)</summary><ul><li><span class='ee-k'>type:</span><span class='ee-v'>Feature</span></li><li><span class='ee-k'>id:</span><span class='ee-v'>54</span></li><li><details><summary>geometry: Point (77.13, 24.07)</summary><ul><li><span class='ee-k'>type:</span><span class='ee-v'>Point</span></li><li><details><summary>coordinates: [77.12680580000006, 24.06718680000006]</summary><ul><li><span class='ee-k'>0:</span><span class='ee-v'>77.12680580000006</span></li><li><span class='ee-k'>1:</span><span class='ee-v'>24.06718680000006</span></li></ul></details></li></ul></details></li><li><details><summary>properties: Object (1 property)</summary><ul><li><span class='ee-k'>FID_1:</span><span class='ee-v'>55</span></li></ul></details></li></ul></details></li></ul></details></li></ul></details></li></ul></div></div>"
      ],
      "text/plain": [
       "<ee.featurecollection.FeatureCollection at 0x289c2f2ee90>"
      ]
     },
     "execution_count": 10,
     "metadata": {},
     "output_type": "execute_result"
    }
   ],
   "source": [
    "ee_fc"
   ]
  },
  {
   "cell_type": "code",
   "execution_count": null,
   "id": "dc838cd6-6cde-42c6-95ef-8cc69e5c6524",
   "metadata": {},
   "outputs": [],
   "source": []
  }
 ],
 "metadata": {
  "kernelspec": {
   "display_name": "test_venv",
   "language": "python",
   "name": "test_venv"
  },
  "language_info": {
   "codemirror_mode": {
    "name": "ipython",
    "version": 3
   },
   "file_extension": ".py",
   "mimetype": "text/x-python",
   "name": "python",
   "nbconvert_exporter": "python",
   "pygments_lexer": "ipython3",
   "version": "3.13.7"
  }
 },
 "nbformat": 4,
 "nbformat_minor": 5
}
