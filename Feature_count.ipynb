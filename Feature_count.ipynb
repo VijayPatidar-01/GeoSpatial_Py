{
 "cells": [
  {
   "cell_type": "code",
   "execution_count": 10,
   "id": "da4e3687-bdeb-4321-83b9-4ed4f52d548c",
   "metadata": {},
   "outputs": [],
   "source": [
    "import geopandas as gpd\n",
    "import matplotlib.pyplot as plt\n",
    "import time"
   ]
  },
  {
   "cell_type": "code",
   "execution_count": 2,
   "id": "558b3a35-aa07-437d-8d65-1590480927fb",
   "metadata": {},
   "outputs": [
    {
     "name": "stdout",
     "output_type": "stream",
     "text": [
      "village CRS: EPSG:4326\n",
      "whater_Body  CRS: EPSG:4326\n"
     ]
    }
   ],
   "source": [
    "# Read the two shapefiles\n",
    "village = gpd.read_file(r\"D:\\MPSeDC\\Admin_boundary_Ver.17_GCS\\Village.shp\")\n",
    "whater_Body = gpd.read_file(r\"D:\\MPSeDC\\SIPRI\\Watershed_Prioritization_Criteria\\Watershed\\Watershed\\Watershed.shp\")\n",
    "\n",
    "# Check CRS (coordinate reference system)\n",
    "print(\"village CRS:\", village.crs)\n",
    "print(\"whater_Body  CRS:\", whater_Body.crs)\n",
    "\n",
    "# If CRS are different, reproject one to match the other\n",
    "if village.crs != whater_Body.crs:\n",
    "    whater_Body = whater_Body.to_crs(village.crs)\n",
    "\n",
    "# # Plot both shapefiles together\n",
    "# fig, ax = plt.subplots(figsize=(8, 8))\n",
    "# village.plot(ax=ax, color=\"lightblue\", edgecolor=\"black\", alpha=0.5)\n",
    "# whater_Body.plot(ax=ax, color=\"orange\", edgecolor=\"red\", alpha=0.5)\n",
    "\n",
    "# plt.title(\"Two Polygon Shapefiles\")\n",
    "# plt.show()\n"
   ]
  },
  {
   "cell_type": "code",
   "execution_count": 4,
   "id": "0edc4500-3e58-4796-8c97-e4ffae8c3ff7",
   "metadata": {},
   "outputs": [
    {
     "name": "stdout",
     "output_type": "stream",
     "text": [
      "Index(['code', 'class', 'sub_class', 'vil_nm_h', 'vil_nm_e', 'lgd_gp_nm',\n",
      "       'teh_nm', 'b_nm', 'dist_nm', 'div_nm', 'ac_nm', 'pc_nm', 'state_nm',\n",
      "       'b_cd', 'dist_cd', 'div_cd', 'ac_cd', 'pc_cd', 'state_cd', 'area_hecta',\n",
      "       'lgd_gp_cd', 'teh_cd', 'vil_cd', 'bhu_cd', 'ccode_11', 'lgdcd', 'FID_1',\n",
      "       'geometry'],\n",
      "      dtype='object')\n",
      "Index(['AREA', 'PERIMETER', 'NVDAWSHED_', 'NVDAWSHED1', 'REP_CODE', 'Basin',\n",
      "       'Watershed', 'neemuch_15', 'FID_1', 'geometry'],\n",
      "      dtype='object')\n"
     ]
    }
   ],
   "source": [
    "print(village.columns)"
   ]
  },
  {
   "cell_type": "code",
   "execution_count": 18,
   "id": "1f52b220-3c76-435f-aca1-c3a82481fc59",
   "metadata": {
    "scrolled": true
   },
   "outputs": [
    {
     "name": "stdout",
     "output_type": "stream",
     "text": [
      "            AREA     PERIMETER  NVDAWSHED_  NVDAWSHED1 REP_CODE Basin  \\\n",
      "0       0.001244  15320.621791           2         220  AGR1335    2D   \n",
      "1       0.000839  14856.958529           3         219  AGR1335    2D   \n",
      "2       0.001065  15395.269706           4         221  AGR1335    2D   \n",
      "3       0.000792  15987.527040           5         218  AGR1335    2D   \n",
      "4       0.000792  15987.527040           5         218  AGR1335    2D   \n",
      "...          ...           ...         ...         ...      ...   ...   \n",
      "220425  0.001273  22356.252792       39619          20   AGR706    5C   \n",
      "220426  0.001526  22245.875767       39620          25   AGR706    5C   \n",
      "220427  0.001243  20067.750308       39623          22   AGR706    5C   \n",
      "220428  0.001172  15661.090835       39626          24   AGR706    5C   \n",
      "220429  0.001150  26184.809056       39629          24   AGR706    5C   \n",
      "\n",
      "       Watershed  neemuch_15  FID_1_1 code  ... state_cd    area_hecta  \\\n",
      "0          2D1A3         0.0        0   01  ...       23   2202.525452   \n",
      "1          2D1A3         0.0        1   01  ...       23   2202.525452   \n",
      "2          2D1A3         0.0        2   01  ...       23   2202.525452   \n",
      "3          2D1A3         0.0        3   01  ...       23   2184.254936   \n",
      "4          2D1A3         0.0        3   01  ...       23   2202.525452   \n",
      "...          ...         ...      ...  ...  ...      ...           ...   \n",
      "220425     5C4B1         0.0    33668   01  ...       23  18369.874777   \n",
      "220426     5C4B1         0.0    33669   01  ...       23  18369.874777   \n",
      "220427     5C4B1         0.0    33670   01  ...       23  18369.874777   \n",
      "220428     5C4B1         0.0    33671   01  ...       23  18369.874777   \n",
      "220429     5C4B1         0.0    33672   01  ...       23  18369.874777   \n",
      "\n",
      "       lgd_gp_cd teh_cd  vil_cd          bhu_cd ccode_11   lgdcd FID_1_2  \\\n",
      "0         143991  03385  452033  01010400061104   452033  452033   28583   \n",
      "1         143991  03385  452033  01010400061104   452033  452033   28583   \n",
      "2         143991  03385  452033  01010400061104   452033  452033   28583   \n",
      "3         143983  03385  452032  01010400060103   452032  452032   28574   \n",
      "4         143991  03385  452033  01010400061104   452033  452033   28583   \n",
      "...          ...    ...     ...             ...      ...     ...     ...   \n",
      "220425      None  03719    None            9999     None    None   11658   \n",
      "220426      None  03719    None            9999     None    None   11658   \n",
      "220427      None  03719    None            9999     None    None   11658   \n",
      "220428      None  03719    None            9999     None    None   11658   \n",
      "220429      None  03719    None            9999     None    None   11658   \n",
      "\n",
      "                                                 geometry  \n",
      "0       POLYGON ((78.36856 26.86625, 78.36774 26.86668...  \n",
      "1       POLYGON ((78.33287 26.86401, 78.33226 26.8646,...  \n",
      "2       MULTIPOLYGON (((78.3787 26.84739, 78.37862 26....  \n",
      "3       POLYGON ((78.32054 26.86174, 78.3196 26.86199,...  \n",
      "4       POLYGON ((78.3334 26.86115, 78.33264 26.86078,...  \n",
      "...                                                   ...  \n",
      "220425  POLYGON ((76.20825 21.08601, 76.2066 21.08583,...  \n",
      "220426  POLYGON ((76.39916 21.0869, 76.3973 21.08662, ...  \n",
      "220427  POLYGON ((76.32323 21.0728, 76.3202 21.07293, ...  \n",
      "220428  POLYGON ((76.37525 21.07862, 76.37538 21.07577...  \n",
      "220429  POLYGON ((76.38127 21.08119, 76.38157 21.08005...  \n",
      "\n",
      "[220430 rows x 37 columns]\n",
      "\n",
      "⏱️ Total processing time: 132.26 seconds\n"
     ]
    }
   ],
   "source": [
    "\n",
    "# Intersect waterbodies with villages\n",
    "intersection = gpd.overlay(whater_Body, village, how=\"intersection\", keep_geom_type=False)\n",
    "print(intersection)\n",
    "\n",
    "# Count waterbody pieces per village using FID_1\n",
    "counts = intersection.groupby(\"FID_1_1\").size().reset_index(name=\"waterbody_count\")\n",
    "counts"
   ]
  },
  {
   "cell_type": "code",
   "execution_count": 24,
   "id": "1f44596e-779f-4895-8b82-438e7a5a5af2",
   "metadata": {
    "scrolled": true
   },
   "outputs": [
    {
     "name": "stdout",
     "output_type": "stream",
     "text": [
      "Index(['AREA', 'PERIMETER', 'NVDAWSHED_', 'NVDAWSHED1', 'REP_CODE', 'Basin',\n",
      "       'Watershed', 'neemuch_15', 'FID_1_1', 'code', 'class', 'sub_class',\n",
      "       'vil_nm_h', 'vil_nm_e', 'lgd_gp_nm', 'teh_nm', 'b_nm', 'dist_nm',\n",
      "       'div_nm', 'ac_nm', 'pc_nm', 'state_nm', 'b_cd', 'dist_cd', 'div_cd',\n",
      "       'ac_cd', 'pc_cd', 'state_cd', 'area_hecta', 'lgd_gp_cd', 'teh_cd',\n",
      "       'vil_cd', 'bhu_cd', 'ccode_11', 'lgdcd', 'FID_1_2', 'geometry'],\n",
      "      dtype='object')\n"
     ]
    }
   ],
   "source": [
    "print(intersection.columns)"
   ]
  },
  {
   "cell_type": "code",
   "execution_count": 26,
   "id": "cc351d8b-b33e-4899-bfd1-5322b68ce342",
   "metadata": {},
   "outputs": [
    {
     "name": "stdout",
     "output_type": "stream",
     "text": [
      "(220430, 37)\n"
     ]
    }
   ],
   "source": [
    "print(intersection.shape)"
   ]
  },
  {
   "cell_type": "code",
   "execution_count": 34,
   "id": "d2079622-5b77-42d8-8b84-870c85da03dc",
   "metadata": {},
   "outputs": [
    {
     "data": {
      "text/html": [
       "<div>\n",
       "<style scoped>\n",
       "    .dataframe tbody tr th:only-of-type {\n",
       "        vertical-align: middle;\n",
       "    }\n",
       "\n",
       "    .dataframe tbody tr th {\n",
       "        vertical-align: top;\n",
       "    }\n",
       "\n",
       "    .dataframe thead th {\n",
       "        text-align: right;\n",
       "    }\n",
       "</style>\n",
       "<table border=\"1\" class=\"dataframe\">\n",
       "  <thead>\n",
       "    <tr style=\"text-align: right;\">\n",
       "      <th></th>\n",
       "      <th>FID_1</th>\n",
       "      <th>waterbody_count</th>\n",
       "    </tr>\n",
       "  </thead>\n",
       "  <tbody>\n",
       "    <tr>\n",
       "      <th>0</th>\n",
       "      <td>0</td>\n",
       "      <td>19</td>\n",
       "    </tr>\n",
       "    <tr>\n",
       "      <th>1</th>\n",
       "      <td>1</td>\n",
       "      <td>1</td>\n",
       "    </tr>\n",
       "    <tr>\n",
       "      <th>2</th>\n",
       "      <td>2</td>\n",
       "      <td>2</td>\n",
       "    </tr>\n",
       "    <tr>\n",
       "      <th>3</th>\n",
       "      <td>3</td>\n",
       "      <td>3</td>\n",
       "    </tr>\n",
       "    <tr>\n",
       "      <th>4</th>\n",
       "      <td>4</td>\n",
       "      <td>1</td>\n",
       "    </tr>\n",
       "    <tr>\n",
       "      <th>...</th>\n",
       "      <td>...</td>\n",
       "      <td>...</td>\n",
       "    </tr>\n",
       "    <tr>\n",
       "      <th>58693</th>\n",
       "      <td>58695</td>\n",
       "      <td>2</td>\n",
       "    </tr>\n",
       "    <tr>\n",
       "      <th>58694</th>\n",
       "      <td>58696</td>\n",
       "      <td>3</td>\n",
       "    </tr>\n",
       "    <tr>\n",
       "      <th>58695</th>\n",
       "      <td>58697</td>\n",
       "      <td>3</td>\n",
       "    </tr>\n",
       "    <tr>\n",
       "      <th>58696</th>\n",
       "      <td>58698</td>\n",
       "      <td>3</td>\n",
       "    </tr>\n",
       "    <tr>\n",
       "      <th>58697</th>\n",
       "      <td>58699</td>\n",
       "      <td>2</td>\n",
       "    </tr>\n",
       "  </tbody>\n",
       "</table>\n",
       "<p>58698 rows × 2 columns</p>\n",
       "</div>"
      ],
      "text/plain": [
       "       FID_1  waterbody_count\n",
       "0          0               19\n",
       "1          1                1\n",
       "2          2                2\n",
       "3          3                3\n",
       "4          4                1\n",
       "...      ...              ...\n",
       "58693  58695                2\n",
       "58694  58696                3\n",
       "58695  58697                3\n",
       "58696  58698                3\n",
       "58697  58699                2\n",
       "\n",
       "[58698 rows x 2 columns]"
      ]
     },
     "execution_count": 34,
     "metadata": {},
     "output_type": "execute_result"
    }
   ],
   "source": [
    "# Count waterbody pieces per village using FID_1\n",
    "counts = intersection.groupby(\"FID_1_2\").size().reset_index(name=\"waterbody_count\")\n",
    "\n",
    "rename = counts.rename(columns={\n",
    "   \"FID_1_2\":\"FID_1\"\n",
    "})\n",
    "rename"
   ]
  },
  {
   "cell_type": "code",
   "execution_count": 41,
   "id": "b7962cbe-420d-4680-9005-343ce5b0c4f9",
   "metadata": {},
   "outputs": [
    {
     "name": "stderr",
     "output_type": "stream",
     "text": [
      "C:\\Users\\Lenovo\\AppData\\Local\\Temp\\ipykernel_16844\\3512025995.py:8: UserWarning: Column names longer than 10 characters will be truncated when saved to ESRI Shapefile.\n",
      "  villages.to_file(r\"D:\\MPSeDC\\SIPRI\\Watershed_Prioritization_Criteria\\Watershed\\villages_with_waterbody_count_updated.shp\")\n",
      "C:\\Users\\Lenovo\\.conda\\envs\\Gis_venv\\lib\\site-packages\\pyogrio\\raw.py:723: RuntimeWarning: Normalized/laundered field name: 'waterbody_count' to 'waterbody_'\n",
      "  ogr_write(\n"
     ]
    },
    {
     "name": "stdout",
     "output_type": "stream",
     "text": [
      "   vil_cd  waterbody_count\n",
      "0  453859               19\n",
      "1  948169                1\n",
      "2  948200                2\n",
      "3  948209                3\n",
      "4  948171                1\n"
     ]
    }
   ],
   "source": [
    "\n",
    "# Merge counts back to villages using village index (assuming FID_1 corresponds to index)\n",
    "villages = village.merge(rename, how=\"left\")\n",
    "# print(villages[\"waterbody_count\"])\n",
    "# Fill NaN (villages with no waterbody)\n",
    "villages[\"waterbody_count\"] = villages[\"waterbody_count\"].fillna(0).astype(int)\n",
    "\n",
    "# Save\n",
    "villages.to_file(r\"D:\\MPSeDC\\SIPRI\\Watershed_Prioritization_Criteria\\Watershed\\villages_with_waterbody_count_updated.shp\")\n",
    "\n",
    "print(villages[[\"vil_cd\", \"waterbody_count\"]].head())"
   ]
  },
  {
   "cell_type": "code",
   "execution_count": null,
   "id": "c60eac8f-3d7f-44d2-8f8b-5e24ae64f61c",
   "metadata": {},
   "outputs": [],
   "source": []
  }
 ],
 "metadata": {
  "kernelspec": {
   "display_name": "Gis_venv",
   "language": "python",
   "name": "myenv"
  },
  "language_info": {
   "codemirror_mode": {
    "name": "ipython",
    "version": 3
   },
   "file_extension": ".py",
   "mimetype": "text/x-python",
   "name": "python",
   "nbconvert_exporter": "python",
   "pygments_lexer": "ipython3",
   "version": "3.9.23"
  }
 },
 "nbformat": 4,
 "nbformat_minor": 5
}
